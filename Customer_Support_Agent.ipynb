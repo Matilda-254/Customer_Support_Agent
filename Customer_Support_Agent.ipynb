{
 "cells": [
  {
   "cell_type": "markdown",
   "id": "01f3f0be",
   "metadata": {},
   "source": [
    "### These are the key components that will be utilized throughout the project:\n",
    "- ###Components  utilized for the project:\n",
    "- TypedDict function to define and manage the state of each customer interaction (State management)\n",
    "- Classification of customer queries into technical, billing or general queries (Queries Categorization)\n",
    "- Determining the emotional tone of each customer's query under sentiment analysis\n",
    "- Generating appropriate responses based on the query category and sentiment under response generation\n",
    "- Automatically escalate queries with a negative sentiment to human agants for further assistance under Escalation mechanism\n",
    "- LangGraph module used to create a flexible and extensible workflow under Workflow Graph"
   ]
  },
  {
   "cell_type": "markdown",
   "id": "6367abb7",
   "metadata": {},
   "source": [
    "### The methods followed to ensure the project works\n",
    "-Setting up the environment and importing the necessary libraries\n",
    "- Creating a structure that hold query information, category, sentiment and responses under the state definition\n",
    "- Implementing separate funstions for categorization, sentiment analysis and response generation under the node functions\n",
    "- Use StateGraph to define the workflow, add nodes and edges to represent the support process under the Graph construction\n",
    "- Implementing logic to route queries based on their category and sentiment (conditional routing)\n",
    "- Compile the graph into an executable application under the Workflow compilation \n",
    "-Process the customer queries through a workflow and retrieve the results\n"
   ]
  },
  {
   "cell_type": "code",
   "execution_count": 1,
   "id": "e802572d",
   "metadata": {},
   "outputs": [],
   "source": [
    "# !pip install langgraph\n",
    "# !pip install python-dotenv"
   ]
  },
  {
   "cell_type": "code",
   "execution_count": 2,
   "id": "23eb4945",
   "metadata": {},
   "outputs": [
    {
     "name": "stderr",
     "output_type": "stream",
     "text": [
      "C:\\Users\\USER\\AppData\\Local\\Packages\\PythonSoftwareFoundation.Python.3.11_qbz5n2kfra8p0\\LocalCache\\local-packages\\Python311\\site-packages\\tqdm\\auto.py:21: TqdmWarning: IProgress not found. Please update jupyter and ipywidgets. See https://ipywidgets.readthedocs.io/en/stable/user_install.html\n",
      "  from .autonotebook import tqdm as notebook_tqdm\n"
     ]
    }
   ],
   "source": [
    "from typing import TypedDict, Dict\n",
    "from langgraph.graph import StateGraph, END\n",
    "from langchain_core.prompts import HumanMessagePromptTemplate, ChatPromptTemplate\n",
    "from langchain_core.runnables.graph import MermaidDrawMethod\n",
    "from langchain_groq import ChatGroq\n",
    "from IPython.display import display, Image\n",
    "from dotenv import load_dotenv\n",
    "import os"
   ]
  },
  {
   "cell_type": "code",
   "execution_count": 3,
   "id": "2b418c9f",
   "metadata": {},
   "outputs": [
    {
     "name": "stdout",
     "output_type": "stream",
     "text": [
      "Groq API key loaded successfully\n"
     ]
    }
   ],
   "source": [
    "# Load the api keys\n",
    "load_dotenv()\n",
    "groq_api_key = os.getenv(\"groq_api_key\")\n",
    "# Check if API key loaded successfully\n",
    "if groq_api_key:\n",
    "    print(\"Groq API key loaded successfully\")\n",
    "else:\n",
    "    print(\"Error: Groq API key not found. Check your .env file\")"
   ]
  },
  {
   "cell_type": "markdown",
   "id": "ddd7ad82",
   "metadata": {},
   "source": [
    "## Define the State structure"
   ]
  },
  {
   "cell_type": "code",
   "execution_count": 4,
   "id": "7692945a",
   "metadata": {},
   "outputs": [],
   "source": [
    "# Create the state class\n",
    "class State(TypedDict):\n",
    "    query: str\n",
    "    category: str\n",
    "    sentiment: str\n",
    "    response: str"
   ]
  },
  {
   "cell_type": "code",
   "execution_count": 5,
   "id": "3c953118",
   "metadata": {},
   "outputs": [],
   "source": [
    "# Define the Large Language Model\n",
    "LLM = ChatGroq(\n",
    "    temperature=0,\n",
    "    groq_api_key = groq_api_key,\n",
    "    model_name=\"llama-3.3-70b-versatile\"\n",
    ")"
   ]
  },
  {
   "cell_type": "code",
   "execution_count": 6,
   "id": "b2af012b",
   "metadata": {},
   "outputs": [
    {
     "data": {
      "text/plain": [
       "'**Deep Learning Overview**\\n==========================\\n\\nDeep learning is a subset of machine learning that involves the use of artificial neural networks to analyze and interpret data. These neural networks are designed to mimic the structure and function of the human brain, with multiple layers of interconnected nodes (neurons) that process and transform inputs into meaningful representations.\\n\\n**Key Characteristics**\\n-----------------------\\n\\n* **Artificial Neural Networks**: Deep learning models are based on artificial neural networks, which are composed of multiple layers of interconnected nodes (neurons) that process and transform inputs.\\n* **Multiple Layers**: Deep learning models typically have multiple layers, including input layers, hidden layers, and output layers. Each layer processes and transforms the input data in a specific way.\\n* **Non-Linear Transformations**: Deep learning models use non-linear transformations to process and transform the input data, allowing them to learn complex patterns and relationships.\\n* **Large Amounts of Data**: Deep learning models require large amounts of data to train and learn from, which can be a challenge in some applications.\\n\\n**Types of Deep Learning Models**\\n-------------------------------\\n\\n* **Convolutional Neural Networks (CNNs)**: CNNs are designed for image and video processing, and are commonly used for tasks such as image classification, object detection, and image segmentation.\\n* **Recurrent Neural Networks (RNNs)**: RNNs are designed for sequential data, such as text, speech, or time series data, and are commonly used for tasks such as language modeling, speech recognition, and machine translation.\\n* **Autoencoders**: Autoencoders are designed for dimensionality reduction and generative modeling, and are commonly used for tasks such as image compression, anomaly detection, and generative modeling.\\n\\n**Applications of Deep Learning**\\n---------------------------------\\n\\n* **Computer Vision**: Deep learning is widely used in computer vision applications, such as image classification, object detection, and image segmentation.\\n* **Natural Language Processing**: Deep learning is widely used in natural language processing applications, such as language modeling, speech recognition, and machine translation.\\n* **Speech Recognition**: Deep learning is widely used in speech recognition applications, such as voice assistants and speech-to-text systems.\\n* **Robotics**: Deep learning is widely used in robotics applications, such as control, navigation, and manipulation.\\n\\n**Advantages and Challenges**\\n---------------------------\\n\\n* **Advantages**: Deep learning models can learn complex patterns and relationships in data, and can achieve state-of-the-art performance in many applications.\\n* **Challenges**: Deep learning models require large amounts of data to train and learn from, and can be computationally expensive to train and deploy. Additionally, deep learning models can be prone to overfitting and require careful tuning of hyperparameters.'"
      ]
     },
     "execution_count": 6,
     "metadata": {},
     "output_type": "execute_result"
    }
   ],
   "source": [
    "# Test how the model performs\n",
    "response = LLM.invoke(\"What is Deep Learning?\")\n",
    "response.content"
   ]
  },
  {
   "cell_type": "code",
   "execution_count": 7,
   "id": "978f5730",
   "metadata": {},
   "outputs": [],
   "source": [
    "# Defining the node function\n",
    "## Categorizing function\n",
    "def categorize(state : State) -> State:\n",
    "    \"Technical, Billing, General\"\n",
    "    prompt = ChatPromptTemplate.from_template(\n",
    "        \"Categorize the following customer queries into the following:\"\n",
    "        \"Technical, Billing, General. Query: {query}\"\n",
    "    )\n",
    "    chain = prompt|LLM\n",
    "    category = chain.invoke({\"query\" : state['query']}).content\n",
    "    return {\"category\": category}"
   ]
  },
  {
   "cell_type": "code",
   "execution_count": 8,
   "id": "ea55e31f",
   "metadata": {},
   "outputs": [],
   "source": [
    "# analyzing the sentiment\n",
    "def analyze_sentiment(state : State) -> State:\n",
    "    prompt = ChatPromptTemplate.from_template(\n",
    "        \"Analyze the sentiment of the following customer queries.\"\n",
    "        \"Return with either 'Positive', 'Neutral', or 'Negative'. Query: {query}\"\n",
    "    )\n",
    "    chain = prompt|LLM\n",
    "    sentiment = chain.invoke({\"query\" : state['query']}).content # captures the sentiment\n",
    "    return {\"sentiment\": sentiment} # returns the sentiment according to the query"
   ]
  },
  {
   "cell_type": "code",
   "execution_count": 9,
   "id": "ae97d3bd",
   "metadata": {},
   "outputs": [],
   "source": [
    "# Define the technical function\n",
    "def handle_technical(state : State) -> State:\n",
    "    prompt = ChatPromptTemplate.from_template(\n",
    "        \"Provide a technical support response to the following query : {query}\"\n",
    "    )\n",
    "    chain = prompt | LLM\n",
    "    response = chain.invoke({\"query\" : state['query']}).content # this captures the technical content\n",
    "    return{\"response\": response} # this returns the response according to the technical question"
   ]
  },
  {
   "cell_type": "code",
   "execution_count": 10,
   "id": "05d5ffce",
   "metadata": {},
   "outputs": [],
   "source": [
    "# Define the billing function\n",
    "def handle_billing(state : State) -> State:\n",
    "    prompt = ChatPromptTemplate.from_template(\n",
    "        \"Give out a billing support response to the following query : {query}\"\n",
    "    )\n",
    "    chain = prompt | LLM\n",
    "    response = chain.invoke({\"query\" : state['query']}).content\n",
    "    return{\"response\": response}\n"
   ]
  },
  {
   "cell_type": "code",
   "execution_count": 11,
   "id": "4c7fc83a",
   "metadata": {},
   "outputs": [],
   "source": [
    "# General function\n",
    "def handle_general(state : State) -> State:\n",
    "    prompt = ChatPromptTemplate.from_template(\n",
    "        \"Provide a general support response to the following query : {query}\"\n",
    "    )\n",
    "    chain = prompt|LLM\n",
    "    response = chain.invoke({\"query\" : state['query']}).content\n",
    "    return{\"response\" : response}"
   ]
  },
  {
   "cell_type": "code",
   "execution_count": 12,
   "id": "c2542c83",
   "metadata": {},
   "outputs": [],
   "source": [
    "# Function if the query has a negative sentiment\n",
    "def escalate(state : State) -> State:\n",
    "    return{\"response\": \"This query has been escalate to a human agent due to its negative sentiment\"}"
   ]
  },
  {
   "cell_type": "code",
   "execution_count": 13,
   "id": "fbd59ab8",
   "metadata": {},
   "outputs": [],
   "source": [
    "# Handle the routing function\n",
    "def route_query(state : State) -> State:\n",
    "    if state[\"sentiment\"] == [\"Negative\"]:\n",
    "        return \"escalate\"\n",
    "    elif state['category'] == ['Technical']:\n",
    "        return 'handle_technical'\n",
    "    elif state['category'] == ['Billing']:\n",
    "        return 'handle_billing'\n",
    "    else:\n",
    "        return 'handle_general'"
   ]
  },
  {
   "cell_type": "markdown",
   "id": "41415116",
   "metadata": {},
   "source": [
    "### Create a workflow in form of graph"
   ]
  },
  {
   "cell_type": "code",
   "execution_count": 14,
   "id": "c533407b",
   "metadata": {},
   "outputs": [
    {
     "data": {
      "text/plain": [
       "<langgraph.graph.state.StateGraph at 0x1dc030d9a50>"
      ]
     },
     "execution_count": 14,
     "metadata": {},
     "output_type": "execute_result"
    }
   ],
   "source": [
    "# Build the workflow\n",
    "workflow = StateGraph(State)\n",
    "workflow.add_node(\"categorize\", categorize)\n",
    "workflow.add_node(\"analyze_sentiment\", analyze_sentiment)\n",
    "workflow.add_node(\"handle_technical\", handle_technical)\n",
    "workflow.add_node(\"handle_billing\", handle_billing)\n",
    "workflow.add_node(\"handle_general\", handle_general)\n",
    "workflow.add_node(\"escalate\", escalate)"
   ]
  },
  {
   "cell_type": "code",
   "execution_count": 15,
   "id": "fddd02a6",
   "metadata": {},
   "outputs": [
    {
     "data": {
      "text/plain": [
       "<langgraph.graph.state.StateGraph at 0x1dc030d9a50>"
      ]
     },
     "execution_count": 15,
     "metadata": {},
     "output_type": "execute_result"
    }
   ],
   "source": [
    "# Add edges\n",
    "workflow.add_edge(\"categorize\", \"analyze_sentiment\")\n",
    "workflow.add_conditional_edges(\"analyze_sentiment\", route_query,\n",
    "                               {\"handle_technical\" : \"handle_technical\",\n",
    "                                \"handle_billing\" : \"handle_billing\",\n",
    "                                \"handle_general\" : \"handle_general\",\n",
    "                                \"escalate\" : \"escalate\"})\n",
    "workflow.add_edge(\"handle_technical\", END)\n",
    "workflow.add_edge(\"handle_billing\", END)\n",
    "workflow.add_edge(\"handle_general\", END)\n",
    "workflow.add_edge(\"escalate\", END)"
   ]
  },
  {
   "cell_type": "code",
   "execution_count": 16,
   "id": "e8f0cd8d",
   "metadata": {},
   "outputs": [
    {
     "data": {
      "text/plain": [
       "<langgraph.graph.state.StateGraph at 0x1dc030d9a50>"
      ]
     },
     "execution_count": 16,
     "metadata": {},
     "output_type": "execute_result"
    }
   ],
   "source": [
    "# Add the entry point\n",
    "workflow.set_entry_point(\"categorize\")"
   ]
  },
  {
   "cell_type": "code",
   "execution_count": 17,
   "id": "adcd0652",
   "metadata": {},
   "outputs": [],
   "source": [
    "# Compile the workflow\n",
    "app = workflow.compile()"
   ]
  },
  {
   "cell_type": "code",
   "execution_count": 18,
   "id": "32fc0e64",
   "metadata": {},
   "outputs": [
    {
     "data": {
      "image/png": "[encoded data removed]",
      "text/plain": [
       "<IPython.core.display.Image object>"
      ]
     },
     "metadata": {},
     "output_type": "display_data"
    }
   ],
   "source": [
    "# Draw the graph\n",
    "display(\n",
    "    Image(\n",
    "        app.get_graph().draw_mermaid_png(\n",
    "            draw_method=MermaidDrawMethod.API\n",
    "        )\n",
    "    )\n",
    ")"
   ]
  },
  {
   "cell_type": "markdown",
   "id": "4f868ae7",
   "metadata": {},
   "source": [
    "### Customer Support function"
   ]
  },
  {
   "cell_type": "code",
   "execution_count": 19,
   "id": "f450d456",
   "metadata": {},
   "outputs": [],
   "source": [
    "# function to run the customer support\n",
    "def run_customer_support(query : str) -> dict:\n",
    "    result = app.invoke({\"query\": query})\n",
    "    return{\n",
    "        \"category\" : result['category'],\n",
    "        \"sentiment\" : result['sentiment'],\n",
    "        \"response\" : result['response'],\n",
    "    }"
   ]
  },
  {
   "cell_type": "code",
   "execution_count": 20,
   "id": "c4435fde",
   "metadata": {},
   "outputs": [
    {
     "name": "stdout",
     "output_type": "stream",
     "text": [
      "Query: I am having a problem making payment, how can you help me?\n",
      "Category: The customer query \"I am having a problem making payment, how can you help me?\" would be categorized as: Billing.\n",
      "Sentiment: Neutral. \n",
      "\n",
      "The customer is experiencing an issue, but the tone is not angry or frustrated, and they are seeking help, which indicates a neutral sentiment. They are not expressing dissatisfaction or complaint, but rather seeking assistance to resolve the problem.\n",
      "Response: I'm so sorry to hear that you're having trouble making a payment. I'm here to help you resolve the issue as quickly as possible. Can you please provide me with more details about the problem you're experiencing, such as the error message you're seeing or the specific step where you're getting stuck? This will help me better understand the issue and provide a more accurate solution.\n",
      "\n",
      "In the meantime, I can offer some general troubleshooting steps that may help. Have you tried checking your account balance, verifying your payment method, or ensuring that your payment information is up to date? If you're still having trouble, I can also try to assist you with alternative payment options or provide guidance on how to complete the payment process.\n",
      "\n",
      "Your payment and account security are my top priority, and I'm committed to helping you find a solution. Please let me know how I can further assist you, and I'll do my best to get you back on track.\n",
      "\n",
      "\n"
     ]
    }
   ],
   "source": [
    "# Test the performance of the output\n",
    "query = \"I am having a problem making payment, how can you help me?\"\n",
    "result = run_customer_support(query)\n",
    "print(f\"Query: {query}\")\n",
    "print(f\"Category: {result['category']}\")\n",
    "print(f\"Sentiment: {result['sentiment']}\")\n",
    "print(f\"Response: {result['response']}\")\n",
    "print(\"\\n\")"
   ]
  }
 ],
 "metadata": {
  "kernelspec": {
   "display_name": "Python 3",
   "language": "python",
   "name": "python3"
  },
  "language_info": {
   "codemirror_mode": {
    "name": "ipython",
    "version": 3
   },
   "file_extension": ".py",
   "mimetype": "text/x-python",
   "name": "python",
   "nbconvert_exporter": "python",
   "pygments_lexer": "ipython3",
   "version": "3.11.9"
  }
 },
 "nbformat": 4,
 "nbformat_minor": 5
}
